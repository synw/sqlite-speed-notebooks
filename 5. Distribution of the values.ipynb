{
 "cells": [
  {
   "cell_type": "code",
   "execution_count": 1,
   "metadata": {},
   "outputs": [
    {
     "name": "stdout",
     "output_type": "stream",
     "text": [
      "[\u001b[92mOK\u001b[0m] Db sqlite:///lake/stats.sqlite connected\n",
      "[\u001b[94mINFO\u001b[0m] Found \u001b[1m1\u001b[0m table:\n",
      "metrics\n",
      "[\u001b[92mOK\u001b[0m] Data loaded from table metrics\n",
      "[\u001b[92mOK\u001b[0m] Dataframe backed up\n",
      "[\u001b[94mINFO\u001b[0m] The dataframe has \u001b[1m2500\u001b[0m rows and \u001b[1m8\u001b[0m columns:\n",
      "id, total_runs, num_inserts, engine, date, exec_time, run_id, run\n"
     ]
    },
    {
     "data": {
      "text/html": [
       "<div>\n",
       "<style scoped>\n",
       "    .dataframe tbody tr th:only-of-type {\n",
       "        vertical-align: middle;\n",
       "    }\n",
       "\n",
       "    .dataframe tbody tr th {\n",
       "        vertical-align: top;\n",
       "    }\n",
       "\n",
       "    .dataframe thead th {\n",
       "        text-align: right;\n",
       "    }\n",
       "</style>\n",
       "<table border=\"1\" class=\"dataframe\">\n",
       "  <thead>\n",
       "    <tr style=\"text-align: right;\">\n",
       "      <th></th>\n",
       "      <th>id</th>\n",
       "      <th>total_runs</th>\n",
       "      <th>num_inserts</th>\n",
       "      <th>engine</th>\n",
       "      <th>date</th>\n",
       "      <th>exec_time</th>\n",
       "      <th>run_id</th>\n",
       "      <th>run</th>\n",
       "    </tr>\n",
       "  </thead>\n",
       "  <tbody>\n",
       "    <tr>\n",
       "      <th>0</th>\n",
       "      <td>501</td>\n",
       "      <td>500</td>\n",
       "      <td>1000</td>\n",
       "      <td>gorm</td>\n",
       "      <td>2018-05-03 08:53:50.782265</td>\n",
       "      <td>320</td>\n",
       "      <td>u9g667q5Ge</td>\n",
       "      <td>1</td>\n",
       "    </tr>\n",
       "    <tr>\n",
       "      <th>1</th>\n",
       "      <td>502</td>\n",
       "      <td>500</td>\n",
       "      <td>1000</td>\n",
       "      <td>gorm</td>\n",
       "      <td>2018-05-03 08:53:51.149160</td>\n",
       "      <td>233</td>\n",
       "      <td>u9g667q5Ge</td>\n",
       "      <td>2</td>\n",
       "    </tr>\n",
       "    <tr>\n",
       "      <th>2</th>\n",
       "      <td>503</td>\n",
       "      <td>500</td>\n",
       "      <td>1000</td>\n",
       "      <td>gorm</td>\n",
       "      <td>2018-05-03 08:53:51.539394</td>\n",
       "      <td>256</td>\n",
       "      <td>u9g667q5Ge</td>\n",
       "      <td>3</td>\n",
       "    </tr>\n",
       "    <tr>\n",
       "      <th>3</th>\n",
       "      <td>504</td>\n",
       "      <td>500</td>\n",
       "      <td>1000</td>\n",
       "      <td>gorm</td>\n",
       "      <td>2018-05-03 08:53:51.928455</td>\n",
       "      <td>254</td>\n",
       "      <td>u9g667q5Ge</td>\n",
       "      <td>4</td>\n",
       "    </tr>\n",
       "    <tr>\n",
       "      <th>4</th>\n",
       "      <td>505</td>\n",
       "      <td>500</td>\n",
       "      <td>1000</td>\n",
       "      <td>gorm</td>\n",
       "      <td>2018-05-03 08:53:52.317756</td>\n",
       "      <td>255</td>\n",
       "      <td>u9g667q5Ge</td>\n",
       "      <td>5</td>\n",
       "    </tr>\n",
       "  </tbody>\n",
       "</table>\n",
       "</div>"
      ],
      "text/plain": [
       "    id  total_runs  num_inserts engine                       date  exec_time  \\\n",
       "0  501         500         1000   gorm 2018-05-03 08:53:50.782265        320   \n",
       "1  502         500         1000   gorm 2018-05-03 08:53:51.149160        233   \n",
       "2  503         500         1000   gorm 2018-05-03 08:53:51.539394        256   \n",
       "3  504         500         1000   gorm 2018-05-03 08:53:51.928455        254   \n",
       "4  505         500         1000   gorm 2018-05-03 08:53:52.317756        255   \n",
       "\n",
       "       run_id  run  \n",
       "0  u9g667q5Ge    1  \n",
       "1  u9g667q5Ge    2  \n",
       "2  u9g667q5Ge    3  \n",
       "3  u9g667q5Ge    4  \n",
       "4  u9g667q5Ge    5  "
      ]
     },
     "execution_count": 1,
     "metadata": {},
     "output_type": "execute_result"
    }
   ],
   "source": [
    "from dataswim import ds\n",
    "\n",
    "\n",
    "ds.connect(\"sqlite:///lake/stats.sqlite\")\n",
    "ds.tables()\n",
    "ds.load(\"metrics\")\n",
    "ds.backup()\n",
    "ds.show()"
   ]
  },
  {
   "cell_type": "code",
   "execution_count": 2,
   "metadata": {},
   "outputs": [
    {
     "name": "stdout",
     "output_type": "stream",
     "text": [
      "[\u001b[92mOK\u001b[0m] Removed values under 198.0 andupper 355.2199999999997 in column exec_time\n",
      "[\u001b[94mINFO\u001b[0m] Switching to the Seaborn engine to draw this chart\n"
     ]
    },
    {
     "data": {
      "text/plain": [
       "<matplotlib.axes._subplots.AxesSubplot at 0x7f2406a98da0>"
      ]
     },
     "execution_count": 2,
     "metadata": {},
     "output_type": "execute_result"
    },
    {
     "data": {
      "image/png": "[encoded data removed]",
      "text/plain": [
       "<matplotlib.figure.Figure at 0x7f2406a98668>"
      ]
     },
     "metadata": {},
     "output_type": "display_data"
    }
   ],
   "source": [
    "ds.chart(\"exec_time\", \"run\")\n",
    "ds.exact(\"engine\", \"gorm\")\n",
    "ds.trimquants(\"exec_time\", 0.01, 0.99)\n",
    "ds.width(8)\n",
    "ds.height(4)\n",
    "ds.distrib_()"
   ]
  },
  {
   "cell_type": "code",
   "execution_count": 3,
   "metadata": {},
   "outputs": [
    {
     "name": "stdout",
     "output_type": "stream",
     "text": [
      "[\u001b[92mOK\u001b[0m] Removed values under 158.97 andupper 353.1000000000001 in column exec_time\n"
     ]
    },
    {
     "data": {
      "text/plain": [
       "<matplotlib.axes._subplots.AxesSubplot at 0x7f23fddeefd0>"
      ]
     },
     "execution_count": 3,
     "metadata": {},
     "output_type": "execute_result"
    },
    {
     "data": {
      "image/png": "[encoded data removed]",
      "text/plain": [
       "<matplotlib.figure.Figure at 0x7f2406a98438>"
      ]
     },
     "metadata": {},
     "output_type": "display_data"
    }
   ],
   "source": [
    "ds.restore()\n",
    "ds.exact(\"engine\", \"goqu\")\n",
    "ds.trimquants(\"exec_time\", 0.01, 0.99)\n",
    "ds.distrib_()"
   ]
  },
  {
   "cell_type": "code",
   "execution_count": 4,
   "metadata": {},
   "outputs": [
    {
     "name": "stdout",
     "output_type": "stream",
     "text": [
      "[\u001b[92mOK\u001b[0m] Removed values under 188.0 andupper 320.3500000000008 in column exec_time\n"
     ]
    },
    {
     "data": {
      "text/plain": [
       "<matplotlib.axes._subplots.AxesSubplot at 0x7f23fdd1f630>"
      ]
     },
     "execution_count": 4,
     "metadata": {},
     "output_type": "execute_result"
    },
    {
     "data": {
      "image/png": "[encoded data removed]",
      "text/plain": [
       "<matplotlib.figure.Figure at 0x7f24069cddd8>"
      ]
     },
     "metadata": {},
     "output_type": "display_data"
    }
   ],
   "source": [
    "ds.restore()\n",
    "ds.exact(\"engine\", \"xorm\")\n",
    "ds.trimquants(\"exec_time\", 0.01, 0.99)\n",
    "ds.distrib_()"
   ]
  },
  {
   "cell_type": "code",
   "execution_count": 5,
   "metadata": {},
   "outputs": [
    {
     "name": "stdout",
     "output_type": "stream",
     "text": [
      "[\u001b[92mOK\u001b[0m] Removed values under 687.99 andupper 954.8000000000002 in column exec_time\n"
     ]
    },
    {
     "data": {
      "text/plain": [
       "<matplotlib.axes._subplots.AxesSubplot at 0x7f23fd563978>"
      ]
     },
     "execution_count": 5,
     "metadata": {},
     "output_type": "execute_result"
    },
    {
     "data": {
      "image/png": "[encoded data removed]",
      "text/plain": [
       "<matplotlib.figure.Figure at 0x7f23fd56c860>"
      ]
     },
     "metadata": {},
     "output_type": "display_data"
    }
   ],
   "source": [
    "ds.restore()\n",
    "ds.exact(\"engine\", \"dataset\")\n",
    "ds.trimquants(\"exec_time\", 0.01, 0.99)\n",
    "ds.distrib_()"
   ]
  },
  {
   "cell_type": "code",
   "execution_count": 6,
   "metadata": {},
   "outputs": [
    {
     "name": "stdout",
     "output_type": "stream",
     "text": [
      "[\u001b[92mOK\u001b[0m] Removed values under 254.0 andupper 443.53999999999985 in column exec_time\n"
     ]
    },
    {
     "data": {
      "text/plain": [
       "<matplotlib.axes._subplots.AxesSubplot at 0x7f23fd107f60>"
      ]
     },
     "execution_count": 6,
     "metadata": {},
     "output_type": "execute_result"
    },
    {
     "data": {
      "image/png": "[encoded data removed]",
      "text/plain": [
       "<matplotlib.figure.Figure at 0x7f23fd56cda0>"
      ]
     },
     "metadata": {},
     "output_type": "display_data"
    }
   ],
   "source": [
    "ds.restore()\n",
    "ds.exact(\"engine\", \"sqlalchemy\")\n",
    "ds.trimquants(\"exec_time\", 0.01, 0.99)\n",
    "ds.distrib_()"
   ]
  },
  {
   "cell_type": "code",
   "execution_count": 8,
   "metadata": {},
   "outputs": [
    {
     "name": "stdout",
     "output_type": "stream",
     "text": [
      "[\u001b[92mOK\u001b[0m] Db sqlite:///lake/stats_django.sqlite connected\n",
      "[\u001b[92mOK\u001b[0m] Data loaded from table metrics\n",
      "[\u001b[92mOK\u001b[0m] Converted column values to integers\n",
      "[\u001b[92mOK\u001b[0m] Converted column values to integers\n",
      "[\u001b[94mINFO\u001b[0m] The dataframe has \u001b[1m500\u001b[0m rows and \u001b[1m8\u001b[0m columns:\n",
      "id, date, num_inserts, exec_time, engine, run, total_runs, run_id\n"
     ]
    },
    {
     "data": {
      "text/html": [
       "<div>\n",
       "<style scoped>\n",
       "    .dataframe tbody tr th:only-of-type {\n",
       "        vertical-align: middle;\n",
       "    }\n",
       "\n",
       "    .dataframe tbody tr th {\n",
       "        vertical-align: top;\n",
       "    }\n",
       "\n",
       "    .dataframe thead th {\n",
       "        text-align: right;\n",
       "    }\n",
       "</style>\n",
       "<table border=\"1\" class=\"dataframe\">\n",
       "  <thead>\n",
       "    <tr style=\"text-align: right;\">\n",
       "      <th></th>\n",
       "      <th>id</th>\n",
       "      <th>date</th>\n",
       "      <th>num_inserts</th>\n",
       "      <th>exec_time</th>\n",
       "      <th>engine</th>\n",
       "      <th>run</th>\n",
       "      <th>total_runs</th>\n",
       "      <th>run_id</th>\n",
       "    </tr>\n",
       "  </thead>\n",
       "  <tbody>\n",
       "    <tr>\n",
       "      <th>0</th>\n",
       "      <td>1</td>\n",
       "      <td>2018-05-03 13:30:16.883079</td>\n",
       "      <td>1000</td>\n",
       "      <td>398</td>\n",
       "      <td>django</td>\n",
       "      <td>1</td>\n",
       "      <td>500</td>\n",
       "      <td>502c8d27-f8a7-4fbb-969f-97fcb6f51874</td>\n",
       "    </tr>\n",
       "  </tbody>\n",
       "</table>\n",
       "</div>"
      ],
      "text/plain": [
       "   id                       date  num_inserts  exec_time  engine  run  \\\n",
       "0   1 2018-05-03 13:30:16.883079         1000        398  django    1   \n",
       "\n",
       "   total_runs                                run_id  \n",
       "0         500  502c8d27-f8a7-4fbb-969f-97fcb6f51874  "
      ]
     },
     "execution_count": 8,
     "metadata": {},
     "output_type": "execute_result"
    }
   ],
   "source": [
    "ds.connect(\"sqlite:///lake/stats_django.sqlite\")\n",
    "ds.load(\"metrics\")\n",
    "ds.to_int(\"run\")\n",
    "ds.to_int(\"exec_time\")\n",
    "ds.one()"
   ]
  },
  {
   "cell_type": "code",
   "execution_count": 9,
   "metadata": {},
   "outputs": [
    {
     "name": "stdout",
     "output_type": "stream",
     "text": [
      "[\u001b[92mOK\u001b[0m] Removed values under 268.0 andupper 422.51999999999975 in column exec_time\n"
     ]
    },
    {
     "data": {
      "text/plain": [
       "<matplotlib.axes._subplots.AxesSubplot at 0x7f064a294cc0>"
      ]
     },
     "execution_count": 9,
     "metadata": {},
     "output_type": "execute_result"
    },
    {
     "data": {
      "image/png": "[encoded data removed]",
      "text/plain": [
       "<matplotlib.figure.Figure at 0x7f0653d19f60>"
      ]
     },
     "metadata": {},
     "output_type": "display_data"
    }
   ],
   "source": [
    "ds.trimquants(\"exec_time\", 0.01, 0.99)\n",
    "ds.distrib_()"
   ]
  },
  {
   "cell_type": "code",
   "execution_count": null,
   "metadata": {
    "collapsed": true
   },
   "outputs": [],
   "source": []
  }
 ],
 "metadata": {
  "kernelspec": {
   "display_name": "Python [conda env:devenv]",
   "language": "python",
   "name": "conda-env-devenv-py"
  },
  "language_info": {
   "codemirror_mode": {
    "name": "ipython",
    "version": 3
   },
   "file_extension": ".py",
   "mimetype": "text/x-python",
   "name": "python",
   "nbconvert_exporter": "python",
   "pygments_lexer": "ipython3",
   "version": "3.5.4"
  }
 },
 "nbformat": 4,
 "nbformat_minor": 2
}
